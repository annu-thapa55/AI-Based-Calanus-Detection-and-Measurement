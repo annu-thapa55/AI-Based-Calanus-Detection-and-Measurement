{
  "nbformat": 4,
  "nbformat_minor": 0,
  "metadata": {
    "colab": {
      "provenance": []
    },
    "kernelspec": {
      "name": "python3",
      "display_name": "Python 3"
    },
    "language_info": {
      "name": "python"
    }
  },
  "cells": [
    {
      "cell_type": "markdown",
      "source": [
        "Measure the result\n"
      ],
      "metadata": {
        "id": "g5PQmrJjTiH8"
      }
    },
    {
      "cell_type": "code",
      "source": [
        "import os\n",
        "import pandas as pd\n",
        "import numpy as np\n",
        "from scipy import stats\n"
      ],
      "metadata": {
        "id": "E2ssfrjYGnum"
      },
      "execution_count": null,
      "outputs": []
    },
    {
      "cell_type": "code",
      "source": [
        "#for manually measurement\n",
        "# specify the folder path\n",
        "folder_path = '/content/sample_data/manually_measure'\n",
        "\n",
        "# get a list of all CSV files in the folder\n",
        "csv_files = [f for f in os.listdir(folder_path) if f.endswith('.csv')]\n",
        "\n",
        "# Create an empty list to store the dataframes\n",
        "length_list_M =[]\n",
        "\n",
        "# loop through each CSV file and read it into a dataframe\n",
        "for csv_file in csv_files:\n",
        "    csv_file_path = os.path.join(folder_path, csv_file)\n",
        "    df = pd.read_csv(csv_file_path)\n",
        "    length=df['Length'].to_numpy()\n",
        "    length_list_M.extend(length)\n",
        "\n",
        "# Display the first few rows of each dataframe\n",
        "print(length_list_M)\n",
        "    # do something with the dataframe, e.g. print the first 5 rows\n",
        "\n"
      ],
      "metadata": {
        "colab": {
          "base_uri": "https://localhost:8080/"
        },
        "id": "jGBReAgnQVnB",
        "outputId": "c494625c-a64e-49d6-99dc-f4134b9742f5"
      },
      "execution_count": 1,
      "outputs": [
        {
          "output_type": "stream",
          "name": "stdout",
          "text": [
            "[233.317, 236.174, 229.611, 208.01, 219.859, 187.779, 227.728, 285.035, 166.643, 214.009, 213.953, 251.668, 97.617, 240.333, 220.629, 228.432, 223.394, 209.194, 235.934, 203.924, 233.985, 260.864, 227.178, 223.66, 88.414, 214.283, 155.464, 202.181, 239.385, 233.324, 191.943, 77.162, 231.487, 198.842, 190.539, 215.541, 239.169, 219.246, 195.359, 231.487, 204.362, 85.212, 241.168, 116.709, 208.543, 199.612, 194.023, 262.132, 232.562, 182.06, 200.445, 161.988, 173.669, 213.846, 182.989, 218.021, 224.415, 222.892, 210.297, 230.783, 233.985, 188.383, 79.31, 220.057, 236.764, 273.251, 79.0, 79.756, 153.222, 198.595, 60.415, 172.708, 224.876, 269.007, 203.0, 208.866, 239.401, 249.65, 213.6, 249.451, 128.705, 225.524, 241.901, 203.002, 182.395, 221.461, 186.271, 170.699, 216.104, 89.822, 101.71, 213.385, 226.874, 204.198, 175.251, 224.971, 224.589, 248.31, 231.698, 176.114, 214.283, 273.748, 205.915, 202.181, 224.511, 243.167, 191.951, 186.132, 232.94, 192.2, 212.878, 197.8, 220.792, 237.228, 205.244, 200.09, 55.362, 186.271, 112.539, 205.244, 218.68, 122.066, 60.008]\n"
          ]
        }
      ]
    },
    {
      "cell_type": "code",
      "source": [
        "#for automatic measurement\n",
        "# specify the folder path\n",
        "folder_path = '/content/sample_data/automatically_measure'\n",
        "\n",
        "# get a list of all CSV files in the folder\n",
        "csv_files = [f for f in os.listdir(folder_path) if f.endswith('.csv')]\n",
        "\n",
        "# Create an empty list to store the dataframes\n",
        "length_list_A =[]\n",
        "\n",
        "# loop through each CSV file and read it into a dataframe\n",
        "for csv_file in csv_files:\n",
        "    csv_file_path = os.path.join(folder_path, csv_file)\n",
        "    df = pd.read_csv(csv_file_path)\n",
        "    length=df['length'].to_numpy()\n",
        "    length_list_A.extend(length)\n",
        "\n",
        "# Display the first few rows of each dataframe\n",
        "print(length_list_A)"
      ],
      "metadata": {
        "colab": {
          "base_uri": "https://localhost:8080/"
        },
        "id": "nXfJQhYhRAFc",
        "outputId": "8d3599e8-a917-432c-8f3f-6249008929fa"
      },
      "execution_count": 2,
      "outputs": [
        {
          "output_type": "stream",
          "name": "stdout",
          "text": [
            "[232, 240, 232, 210, 220, 188, 234, 286, 170, 214, 214, 248, 94, 230, 228, 234, 228, 204, 230, 188, 232, 256, 188, 218, 88, 214, 166, 176, 238, 238, 190, 84, 230, 200, 196, 212, 236, 220, 198, 220, 214, 100, 236, 126, 208, 196, 202, 258, 242, 190, 202, 158, 170, 218, 188, 222, 226, 226, 208, 234, 236, 190, 82, 222, 216, 272, 80, 80, 160, 204, 66, 178, 230, 268, 202, 204, 236, 250, 212, 226, 140, 228, 168, 194, 182, 226, 194, 170, 216, 92, 94, 206, 226, 212, 180, 220, 224, 256, 234, 180, 218, 270, 208, 202, 218, 240, 194, 184, 232, 194, 216, 202, 220, 234, 172, 208, 60, 182, 124, 216, 218, 134, 82]\n"
          ]
        }
      ]
    },
    {
      "cell_type": "code",
      "source": [
        "\n",
        "length_list_M = np.array(length_list_M)\n",
        "length_list_A = np.array(length_list_A)\n",
        "#get the error\n",
        "error=length_list_A-length_list_M\n",
        "#calculate the error rate\n",
        "error=np.absolute(error)\n",
        "error_rate=(error/length_list_M)*100\n",
        "\n",
        "#analyze error rate\n",
        "\n",
        "error_mean = np.mean(error_rate)\n",
        "\n",
        "stats.describe(error_rate)\n",
        "\n",
        "print(error_mean)\n",
        "print(stats.describe(error_rate))\n"
      ],
      "metadata": {
        "colab": {
          "base_uri": "https://localhost:8080/"
        },
        "id": "5QKVrg7YWpjj",
        "outputId": "62a3f0d8-4ebd-4d32-c8b6-ae65616f509f"
      },
      "execution_count": 10,
      "outputs": [
        {
          "output_type": "stream",
          "name": "stdout",
          "text": [
            "3.3980324957921404\n",
            "DescribeResult(nobs=123, minmax=(0.004205430612724759, 36.64844687375016), mean=3.3980324957921404, variance=26.974386205824214, skewness=3.8656376110687947, kurtosis=18.463601197094196)\n"
          ]
        }
      ]
    },
    {
      "cell_type": "code",
      "source": [
        "plt.hist(error_rate, bins=8, range=(0, 40), color='blue', edgecolor='black')\n",
        "plt.xlabel('Error_rate')\n",
        "plt.ylabel('Frequency')\n",
        "plt.title('Distribution of Error rate')\n",
        "plt.show()"
      ],
      "metadata": {
        "colab": {
          "base_uri": "https://localhost:8080/",
          "height": 472
        },
        "id": "UnEVThfH--0B",
        "outputId": "3f9f5a05-9346-46a3-ad93-9d88b7278d13"
      },
      "execution_count": 17,
      "outputs": [
        {
          "output_type": "display_data",
          "data": {
            "text/plain": [
              "<Figure size 640x480 with 1 Axes>"
            ],
            "image/png": "[encoded data removed]"
          },
          "metadata": {}
        }
      ]
    },
    {
      "cell_type": "markdown",
      "source": [
        "nobs: The number of observations in the dataset or variable.\n",
        "minmax: A tuple containing the minimum and maximum values of the dataset or variable.\n",
        "\n",
        "mean: The arithmetic mean (average) of the dataset or variable.\n",
        "\n",
        "variance: The variance of the dataset or variable, which measures how much the data varies from the mean.\n",
        "\n",
        "skewness: The skewness of the dataset or variable, which measures the asymmetry of the data distribution. A positive skewness value indicates that the distribution has a longer tail on the right side than on the left side.\n",
        "\n",
        "kurtosis: The kurtosis of the dataset or variable, which measures the \"peakedness\" of the data distribution. A higher kurtosis value indicates that the data has more extreme values than a normal distribution."
      ],
      "metadata": {
        "id": "Ya4lTeppbbBW"
      }
    }
  ]
}